{
  "nbformat": 4,
  "nbformat_minor": 0,
  "metadata": {
    "colab": {
      "provenance": [],
      "authorship_tag": "ABX9TyPvHbCKL7Q6eqSfPt2yCMsi",
      "include_colab_link": true
    },
    "kernelspec": {
      "name": "python3",
      "display_name": "Python 3"
    },
    "language_info": {
      "name": "python"
    }
  },
  "cells": [
    {
      "cell_type": "markdown",
      "metadata": {
        "id": "view-in-github",
        "colab_type": "text"
      },
      "source": [
        "<a href=\"https://colab.research.google.com/github/AirPro/DeepLearning/blob/MethematicalBuildingBlocksChp2/MathematicalBuildingBlocksChp2.ipynb\" target=\"_parent\"><img src=\"https://colab.research.google.com/assets/colab-badge.svg\" alt=\"Open In Colab\"/></a>"
      ]
    },
    {
      "cell_type": "markdown",
      "source": [
        "# Import the dataset minst and verify data"
      ],
      "metadata": {
        "id": "7eVaRWgFaJYk"
      }
    },
    {
      "cell_type": "code",
      "execution_count": 1,
      "metadata": {
        "colab": {
          "base_uri": "https://localhost:8080/"
        },
        "id": "D9nLZF5PX0MR",
        "outputId": "79ce971d-a929-41b5-cbde-8d063ea9b48a"
      },
      "outputs": [
        {
          "output_type": "stream",
          "name": "stdout",
          "text": [
            "Downloading data from https://storage.googleapis.com/tensorflow/tf-keras-datasets/mnist.npz\n",
            "11490434/11490434 [==============================] - 0s 0us/step\n"
          ]
        }
      ],
      "source": [
        "from tensorflow.keras.datasets import mnist\n",
        "(train_images, train_labels), (test_images, test_labels) = mnist.load_data()"
      ]
    },
    {
      "cell_type": "code",
      "source": [
        "train_images.shape"
      ],
      "metadata": {
        "colab": {
          "base_uri": "https://localhost:8080/"
        },
        "id": "kC42HiuWYiut",
        "outputId": "f9c2124e-9458-4ce3-db82-ba4eb8bd4fbf"
      },
      "execution_count": 2,
      "outputs": [
        {
          "output_type": "execute_result",
          "data": {
            "text/plain": [
              "(60000, 28, 28)"
            ]
          },
          "metadata": {},
          "execution_count": 2
        }
      ]
    },
    {
      "cell_type": "code",
      "source": [
        "len(train_labels)"
      ],
      "metadata": {
        "colab": {
          "base_uri": "https://localhost:8080/"
        },
        "id": "fBNPWSdRYxfj",
        "outputId": "dd1a28e3-2a81-4209-a4b0-923e5bb970e3"
      },
      "execution_count": 3,
      "outputs": [
        {
          "output_type": "execute_result",
          "data": {
            "text/plain": [
              "60000"
            ]
          },
          "metadata": {},
          "execution_count": 3
        }
      ]
    },
    {
      "cell_type": "code",
      "source": [
        "train_labels"
      ],
      "metadata": {
        "colab": {
          "base_uri": "https://localhost:8080/"
        },
        "id": "6KmdpaQzY2ln",
        "outputId": "353966ab-90e6-4940-b039-23d7810caa86"
      },
      "execution_count": 4,
      "outputs": [
        {
          "output_type": "execute_result",
          "data": {
            "text/plain": [
              "array([5, 0, 4, ..., 5, 6, 8], dtype=uint8)"
            ]
          },
          "metadata": {},
          "execution_count": 4
        }
      ]
    },
    {
      "cell_type": "code",
      "source": [
        "test_images.shape"
      ],
      "metadata": {
        "colab": {
          "base_uri": "https://localhost:8080/"
        },
        "id": "HteRAUZOY7lt",
        "outputId": "c684a25d-b0e7-4fc1-fb38-20f581a28d28"
      },
      "execution_count": 5,
      "outputs": [
        {
          "output_type": "execute_result",
          "data": {
            "text/plain": [
              "(10000, 28, 28)"
            ]
          },
          "metadata": {},
          "execution_count": 5
        }
      ]
    },
    {
      "cell_type": "code",
      "source": [
        "len(test_labels)"
      ],
      "metadata": {
        "colab": {
          "base_uri": "https://localhost:8080/"
        },
        "id": "p7yiJ6b6ZBHx",
        "outputId": "ae745f45-7d9c-489e-fab5-1686234c2ada"
      },
      "execution_count": 6,
      "outputs": [
        {
          "output_type": "execute_result",
          "data": {
            "text/plain": [
              "10000"
            ]
          },
          "metadata": {},
          "execution_count": 6
        }
      ]
    },
    {
      "cell_type": "code",
      "source": [
        "test_labels"
      ],
      "metadata": {
        "colab": {
          "base_uri": "https://localhost:8080/"
        },
        "id": "9dclceMpZKro",
        "outputId": "9e5d30ca-253d-4574-a52b-b2f46767d0a4"
      },
      "execution_count": 7,
      "outputs": [
        {
          "output_type": "execute_result",
          "data": {
            "text/plain": [
              "array([7, 2, 1, ..., 4, 5, 6], dtype=uint8)"
            ]
          },
          "metadata": {},
          "execution_count": 7
        }
      ]
    },
    {
      "cell_type": "markdown",
      "source": [
        "# Create and Define the Model"
      ],
      "metadata": {
        "id": "EtbtETsUaUk5"
      }
    },
    {
      "cell_type": "code",
      "source": [
        "from tensorflow import keras\n",
        "from tensorflow.keras import layers\n",
        "model = keras.Sequential ([\n",
        "    layers.Dense(512, activation='relu'),\n",
        "    layers.Dense(10, activation = 'softmax')\n",
        "])"
      ],
      "metadata": {
        "id": "9EpbpbL9ZajL"
      },
      "execution_count": 8,
      "outputs": []
    },
    {
      "cell_type": "markdown",
      "source": [
        "## Compile the Model"
      ],
      "metadata": {
        "id": "IgAhMJi2ab2s"
      }
    },
    {
      "cell_type": "code",
      "source": [
        "model.compile(optimizer = 'rmsprop',\n",
        "              loss = 'sparse_categorical_crossentropy',\n",
        "              metrics = ['accuracy'])"
      ],
      "metadata": {
        "id": "jJ2Ncupradkh"
      },
      "execution_count": 9,
      "outputs": []
    },
    {
      "cell_type": "markdown",
      "source": [
        "# Prepare the Image Data"
      ],
      "metadata": {
        "id": "Qzzgo2IAbTE-"
      }
    },
    {
      "cell_type": "code",
      "source": [
        "train_images = train_images.reshape((60000, 28 * 28))\n",
        "train_images = train_images.astype('float32') / 255\n",
        "test_images = test_images.reshape((10000, 28 * 28))\n",
        "test_images = test_images.astype('float32') / 255"
      ],
      "metadata": {
        "id": "ZMPA1bGobWyj"
      },
      "execution_count": 10,
      "outputs": []
    },
    {
      "cell_type": "markdown",
      "source": [
        "# Fitting the Model"
      ],
      "metadata": {
        "id": "ic0YKCL0cAB5"
      }
    },
    {
      "cell_type": "code",
      "source": [
        "model.fit(train_images, train_labels, epochs = 5, batch_size = 128)"
      ],
      "metadata": {
        "colab": {
          "base_uri": "https://localhost:8080/"
        },
        "id": "eu_ls8hGb-RP",
        "outputId": "219e5f43-5a41-44f5-cba4-d4b184665184"
      },
      "execution_count": 11,
      "outputs": [
        {
          "output_type": "stream",
          "name": "stdout",
          "text": [
            "Epoch 1/5\n",
            "469/469 [==============================] - 19s 34ms/step - loss: 0.2532 - accuracy: 0.9271\n",
            "Epoch 2/5\n",
            "469/469 [==============================] - 5s 12ms/step - loss: 0.1040 - accuracy: 0.9689\n",
            "Epoch 3/5\n",
            "469/469 [==============================] - 5s 10ms/step - loss: 0.0692 - accuracy: 0.9792\n",
            "Epoch 4/5\n",
            "469/469 [==============================] - 4s 10ms/step - loss: 0.0507 - accuracy: 0.9848\n",
            "Epoch 5/5\n",
            "469/469 [==============================] - 4s 9ms/step - loss: 0.0374 - accuracy: 0.9883\n"
          ]
        },
        {
          "output_type": "execute_result",
          "data": {
            "text/plain": [
              "<keras.callbacks.History at 0x7f2173eca040>"
            ]
          },
          "metadata": {},
          "execution_count": 11
        }
      ]
    },
    {
      "cell_type": "markdown",
      "source": [
        "# Using the Model to Make Predictions"
      ],
      "metadata": {
        "id": "ojM5mxrLqFrk"
      }
    },
    {
      "cell_type": "code",
      "source": [
        "test_digits = test_images[0:10]\n",
        "predictions = model.predict(test_digits)\n",
        "predictions[0]"
      ],
      "metadata": {
        "colab": {
          "base_uri": "https://localhost:8080/"
        },
        "id": "lmGkHxXAqIVh",
        "outputId": "9c9c7f44-c7c2-4c70-cd3e-443886fb39a8"
      },
      "execution_count": 12,
      "outputs": [
        {
          "output_type": "stream",
          "name": "stdout",
          "text": [
            "1/1 [==============================] - 0s 79ms/step\n"
          ]
        },
        {
          "output_type": "execute_result",
          "data": {
            "text/plain": [
              "array([3.75388964e-08, 1.04317624e-10, 1.43994168e-06, 1.82492920e-04,\n",
              "       2.31926370e-12, 2.83799153e-07, 9.08856595e-14, 9.99809980e-01,\n",
              "       3.23577268e-07, 5.48838671e-06], dtype=float32)"
            ]
          },
          "metadata": {},
          "execution_count": 12
        }
      ]
    },
    {
      "cell_type": "code",
      "source": [
        "predictions[0].argmax()"
      ],
      "metadata": {
        "colab": {
          "base_uri": "https://localhost:8080/"
        },
        "id": "_TDEYgQ8qgf7",
        "outputId": "5a44f54f-3321-47c9-c4f6-cf672f7c8e2e"
      },
      "execution_count": 13,
      "outputs": [
        {
          "output_type": "execute_result",
          "data": {
            "text/plain": [
              "7"
            ]
          },
          "metadata": {},
          "execution_count": 13
        }
      ]
    },
    {
      "cell_type": "code",
      "source": [
        "predictions[0][7]"
      ],
      "metadata": {
        "colab": {
          "base_uri": "https://localhost:8080/"
        },
        "id": "oPORNVlEqokl",
        "outputId": "2c6eb622-b037-4f4a-84cd-6c631600bb29"
      },
      "execution_count": 14,
      "outputs": [
        {
          "output_type": "execute_result",
          "data": {
            "text/plain": [
              "0.99981"
            ]
          },
          "metadata": {},
          "execution_count": 14
        }
      ]
    },
    {
      "cell_type": "code",
      "source": [
        "test_labels[0]"
      ],
      "metadata": {
        "colab": {
          "base_uri": "https://localhost:8080/"
        },
        "id": "bYfZYZLzqu2w",
        "outputId": "2b6ba730-9421-4c90-bb51-501346af64c7"
      },
      "execution_count": 15,
      "outputs": [
        {
          "output_type": "execute_result",
          "data": {
            "text/plain": [
              "7"
            ]
          },
          "metadata": {},
          "execution_count": 15
        }
      ]
    },
    {
      "cell_type": "markdown",
      "source": [
        "# Evaluating the Model on New Data"
      ],
      "metadata": {
        "id": "_y0dW30OrBqu"
      }
    },
    {
      "cell_type": "code",
      "source": [
        "test_loss, test_acc = model.evaluate(test_images, test_labels) \n",
        "print(f'test_acc: {test_acc}')"
      ],
      "metadata": {
        "colab": {
          "base_uri": "https://localhost:8080/"
        },
        "id": "-wnXy-R5rFpY",
        "outputId": "01a19768-43e7-4314-d9d6-ea08c9d688d7"
      },
      "execution_count": 16,
      "outputs": [
        {
          "output_type": "stream",
          "name": "stdout",
          "text": [
            "313/313 [==============================] - 1s 3ms/step - loss: 0.0670 - accuracy: 0.9798\n",
            "test_acc: 0.9797999858856201\n"
          ]
        }
      ]
    },
    {
      "cell_type": "markdown",
      "source": [
        "# Data Representation for Neural Networks"
      ],
      "metadata": {
        "id": "PzS8oKrkrqtj"
      }
    },
    {
      "cell_type": "markdown",
      "source": [
        "## Scalars (rank - 0 tensors)"
      ],
      "metadata": {
        "id": "LQGNQ2pkrvvc"
      }
    },
    {
      "cell_type": "code",
      "source": [
        "import numpy as np\n",
        "\n",
        "x = np.array(12)\n",
        "x"
      ],
      "metadata": {
        "colab": {
          "base_uri": "https://localhost:8080/"
        },
        "id": "ONCaBbb9rtqK",
        "outputId": "50bca219-0a06-42ae-8c0a-72a57a21aec9"
      },
      "execution_count": 17,
      "outputs": [
        {
          "output_type": "execute_result",
          "data": {
            "text/plain": [
              "array(12)"
            ]
          },
          "metadata": {},
          "execution_count": 17
        }
      ]
    },
    {
      "cell_type": "code",
      "source": [
        "x.ndim"
      ],
      "metadata": {
        "colab": {
          "base_uri": "https://localhost:8080/"
        },
        "id": "BHnHG9VPr-U2",
        "outputId": "5e98a64e-ff8e-4a34-967b-7e8c8fa3f725"
      },
      "execution_count": 18,
      "outputs": [
        {
          "output_type": "execute_result",
          "data": {
            "text/plain": [
              "0"
            ]
          },
          "metadata": {},
          "execution_count": 18
        }
      ]
    },
    {
      "cell_type": "markdown",
      "source": [
        "## Vectors (rank - 1 tensors)"
      ],
      "metadata": {
        "id": "uPBGDVbosCvJ"
      }
    },
    {
      "cell_type": "code",
      "source": [
        "x = np.array([12,3,6,14,7])\n",
        "x"
      ],
      "metadata": {
        "colab": {
          "base_uri": "https://localhost:8080/"
        },
        "id": "beNyHt4TsJVi",
        "outputId": "c18968ed-c4c9-4ad2-86da-2bfd614e261e"
      },
      "execution_count": 19,
      "outputs": [
        {
          "output_type": "execute_result",
          "data": {
            "text/plain": [
              "array([12,  3,  6, 14,  7])"
            ]
          },
          "metadata": {},
          "execution_count": 19
        }
      ]
    },
    {
      "cell_type": "code",
      "source": [
        "x.ndim"
      ],
      "metadata": {
        "colab": {
          "base_uri": "https://localhost:8080/"
        },
        "id": "zy4ELODBsXQz",
        "outputId": "81b9d7a1-1474-4f31-84ce-3faba9b99746"
      },
      "execution_count": 20,
      "outputs": [
        {
          "output_type": "execute_result",
          "data": {
            "text/plain": [
              "1"
            ]
          },
          "metadata": {},
          "execution_count": 20
        }
      ]
    },
    {
      "cell_type": "markdown",
      "source": [
        "## Matrices (rank 2 - tensors)"
      ],
      "metadata": {
        "id": "grk03jQCsarx"
      }
    },
    {
      "cell_type": "code",
      "source": [
        "x = np.array([[5,78,2,34,0],\n",
        "              [6,79,3,35,1],\n",
        "              [7,80,4,36,2]])\n",
        "\n",
        "x.ndim"
      ],
      "metadata": {
        "colab": {
          "base_uri": "https://localhost:8080/"
        },
        "id": "LRhGFvCtshQC",
        "outputId": "75c9f454-59ad-41f9-c423-341cb0e88846"
      },
      "execution_count": 21,
      "outputs": [
        {
          "output_type": "execute_result",
          "data": {
            "text/plain": [
              "2"
            ]
          },
          "metadata": {},
          "execution_count": 21
        }
      ]
    },
    {
      "cell_type": "markdown",
      "source": [
        "## Rank-3 and Higher-Rank Tensors"
      ],
      "metadata": {
        "id": "3D_d-pgyt6-t"
      }
    },
    {
      "cell_type": "code",
      "source": [
        "from numpy.core.fromnumeric import ndim\n",
        "x = np.array([[[5,78,3,34,2],\n",
        "               [6,79,3,35,1],\n",
        "               [7,80,4,35,2]],\n",
        "              [[5,78,2,34,6],\n",
        "               [6,79,3,35,4],\n",
        "               [22,80,4,5,77]],\n",
        "              [[5,78,2,34,9],\n",
        "               [66,3,71,37,8],\n",
        "               [7,80,4,36,2]]])\n",
        "\n",
        "x.ndim"
      ],
      "metadata": {
        "colab": {
          "base_uri": "https://localhost:8080/"
        },
        "id": "j-4EeTM9tDEm",
        "outputId": "835376b6-6f12-4430-bd67-7ba5367fdaf1"
      },
      "execution_count": 22,
      "outputs": [
        {
          "output_type": "execute_result",
          "data": {
            "text/plain": [
              "3"
            ]
          },
          "metadata": {},
          "execution_count": 22
        }
      ]
    },
    {
      "cell_type": "markdown",
      "source": [
        "# Key Attributes (A Look Into the Data in the Tensorflow Datasets)"
      ],
      "metadata": {
        "id": "5CKxoys4wPQe"
      }
    },
    {
      "cell_type": "code",
      "source": [
        "# load a new set from repository for tensor examination\n",
        "from tensorflow.keras.datasets import mnist\n",
        "(train_images, train_labels), (test_images, test_labels) = mnist.load_data()"
      ],
      "metadata": {
        "id": "ZEwhzBiBwVt1"
      },
      "execution_count": 23,
      "outputs": []
    },
    {
      "cell_type": "code",
      "source": [
        "train_images.ndim"
      ],
      "metadata": {
        "colab": {
          "base_uri": "https://localhost:8080/"
        },
        "id": "5UL4C1epwp0_",
        "outputId": "0ca87356-bb76-4ad1-92df-53e26f7ce9be"
      },
      "execution_count": 24,
      "outputs": [
        {
          "output_type": "execute_result",
          "data": {
            "text/plain": [
              "3"
            ]
          },
          "metadata": {},
          "execution_count": 24
        }
      ]
    },
    {
      "cell_type": "code",
      "source": [
        "train_images.shape"
      ],
      "metadata": {
        "colab": {
          "base_uri": "https://localhost:8080/"
        },
        "id": "sMq4qoFrwygF",
        "outputId": "b399fe92-9cbb-4462-9979-b8c035493a8b"
      },
      "execution_count": 25,
      "outputs": [
        {
          "output_type": "execute_result",
          "data": {
            "text/plain": [
              "(60000, 28, 28)"
            ]
          },
          "metadata": {},
          "execution_count": 25
        }
      ]
    },
    {
      "cell_type": "code",
      "source": [
        "train_images.dtype"
      ],
      "metadata": {
        "colab": {
          "base_uri": "https://localhost:8080/"
        },
        "id": "z7VL2_Pow6vQ",
        "outputId": "74259428-4b5d-4b42-eabc-d0a38b187439"
      },
      "execution_count": 26,
      "outputs": [
        {
          "output_type": "execute_result",
          "data": {
            "text/plain": [
              "dtype('uint8')"
            ]
          },
          "metadata": {},
          "execution_count": 26
        }
      ]
    },
    {
      "cell_type": "markdown",
      "source": [
        "## Display the Fourth Digit"
      ],
      "metadata": {
        "id": "lnz99_E0xDQb"
      }
    },
    {
      "cell_type": "code",
      "source": [
        "import matplotlib.pyplot as plt\n",
        "digit = train_images[4]\n",
        "plt.imshow(digit, cmap=plt.cm.binary)\n",
        "plt.show()"
      ],
      "metadata": {
        "colab": {
          "base_uri": "https://localhost:8080/",
          "height": 265
        },
        "id": "xzJ2eUWvxF1P",
        "outputId": "310e2d98-8a83-463a-bfae-8c390f4e434f"
      },
      "execution_count": 27,
      "outputs": [
        {
          "output_type": "display_data",
          "data": {
            "text/plain": [
              "<Figure size 432x288 with 1 Axes>"
            ],
            "image/png": "[encoded data removed]"
          },
          "metadata": {
            "needs_background": "light"
          }
        }
      ]
    },
    {
      "cell_type": "code",
      "source": [
        "train_labels[4]"
      ],
      "metadata": {
        "colab": {
          "base_uri": "https://localhost:8080/"
        },
        "id": "ryYgfH0MxfLj",
        "outputId": "1a913cd3-2647-462f-ce30-626c93813e5f"
      },
      "execution_count": 28,
      "outputs": [
        {
          "output_type": "execute_result",
          "data": {
            "text/plain": [
              "9"
            ]
          },
          "metadata": {},
          "execution_count": 28
        }
      ]
    },
    {
      "cell_type": "markdown",
      "source": [
        "Py"
      ],
      "metadata": {
        "id": "3_NWCgKTIdda"
      }
    },
    {
      "cell_type": "markdown",
      "source": [
        "# Manipulating Tensors in Num"
      ],
      "metadata": {
        "id": "u8VE5-U4IZTZ"
      }
    },
    {
      "cell_type": "code",
      "source": [
        "my_slice = train_images[10:100]\n",
        "my_slice.shape"
      ],
      "metadata": {
        "colab": {
          "base_uri": "https://localhost:8080/"
        },
        "id": "VpqiLgOfIggT",
        "outputId": "81c9eda7-9cdc-44e8-cb1b-ef45b457ad54"
      },
      "execution_count": 29,
      "outputs": [
        {
          "output_type": "execute_result",
          "data": {
            "text/plain": [
              "(90, 28, 28)"
            ]
          },
          "metadata": {},
          "execution_count": 29
        }
      ]
    },
    {
      "cell_type": "code",
      "source": [
        "# Equivalent to statement above\n",
        "my_slice = train_images[10:100, 0:28, 0:28]\n",
        "my_slice.shape"
      ],
      "metadata": {
        "colab": {
          "base_uri": "https://localhost:8080/"
        },
        "id": "RgtEalyiJMmZ",
        "outputId": "1f2b022c-87ef-4e20-f2c0-36b095862768"
      },
      "execution_count": 30,
      "outputs": [
        {
          "output_type": "execute_result",
          "data": {
            "text/plain": [
              "(90, 28, 28)"
            ]
          },
          "metadata": {},
          "execution_count": 30
        }
      ]
    },
    {
      "cell_type": "code",
      "source": [
        "my_slice = train_images[:, 14:, 14: ]\n",
        "my_slice.shape"
      ],
      "metadata": {
        "colab": {
          "base_uri": "https://localhost:8080/"
        },
        "id": "ciLnWr_wJhlD",
        "outputId": "75cc057e-2bab-4b61-a80e-cbd6c923f152"
      },
      "execution_count": 31,
      "outputs": [
        {
          "output_type": "execute_result",
          "data": {
            "text/plain": [
              "(60000, 14, 14)"
            ]
          },
          "metadata": {},
          "execution_count": 31
        }
      ]
    },
    {
      "cell_type": "code",
      "source": [
        "my_slice = train_images[:, 7:-7, 7:-7]\n",
        "my_slice.shape"
      ],
      "metadata": {
        "colab": {
          "base_uri": "https://localhost:8080/"
        },
        "id": "2Thf0e3-Jz37",
        "outputId": "e2b2bc66-291f-433c-ffca-b3aa7d2c0cdb"
      },
      "execution_count": 32,
      "outputs": [
        {
          "output_type": "execute_result",
          "data": {
            "text/plain": [
              "(60000, 14, 14)"
            ]
          },
          "metadata": {},
          "execution_count": 32
        }
      ]
    },
    {
      "cell_type": "markdown",
      "source": [
        "## The Notion of Data Branches"
      ],
      "metadata": {
        "id": "TOSoSyGtKQtL"
      }
    },
    {
      "cell_type": "code",
      "source": [
        "batch = train_images[:128]\n",
        "batch.shape"
      ],
      "metadata": {
        "colab": {
          "base_uri": "https://localhost:8080/"
        },
        "id": "PwYztIHJKUGk",
        "outputId": "a387eeb0-2b92-448f-8e24-8740d15681c0"
      },
      "execution_count": 33,
      "outputs": [
        {
          "output_type": "execute_result",
          "data": {
            "text/plain": [
              "(128, 28, 28)"
            ]
          },
          "metadata": {},
          "execution_count": 33
        }
      ]
    },
    {
      "cell_type": "code",
      "source": [
        "batch = train_images[128:256]\n",
        "batch.shape"
      ],
      "metadata": {
        "colab": {
          "base_uri": "https://localhost:8080/"
        },
        "id": "4hKlGvX0KktR",
        "outputId": "1615ed61-0daf-44b6-bb5b-03e21232e134"
      },
      "execution_count": 34,
      "outputs": [
        {
          "output_type": "execute_result",
          "data": {
            "text/plain": [
              "(128, 28, 28)"
            ]
          },
          "metadata": {},
          "execution_count": 34
        }
      ]
    },
    {
      "cell_type": "code",
      "source": [
        "n = 3\n",
        "batch = train_images[128 * n:128 * (n + 1)]\n",
        "batch.shape"
      ],
      "metadata": {
        "colab": {
          "base_uri": "https://localhost:8080/"
        },
        "id": "nIyqKqJDKvEV",
        "outputId": "f7ff7c46-0522-4f5c-ce76-fa507c0ad4d8"
      },
      "execution_count": 35,
      "outputs": [
        {
          "output_type": "execute_result",
          "data": {
            "text/plain": [
              "(128, 28, 28)"
            ]
          },
          "metadata": {},
          "execution_count": 35
        }
      ]
    },
    {
      "cell_type": "markdown",
      "source": [
        "# The gears of neural networks: Tensor operations\n",
        "## Element Wise Operations"
      ],
      "metadata": {
        "id": "glxkXQVYMB3C"
      }
    },
    {
      "cell_type": "code",
      "source": [
        "def naive_relu(x):\n",
        "  assert len(x.shape) == 2  # x is a rank-2 NumPy tensor\n",
        "  x = x.copy()              # avoid overwritting the input tensor\n",
        "  for i in range(x.shape[0]):\n",
        "    for j in range(x.shape[1]):\n",
        "      x[i, j] = max(x[i, j], 0)\n",
        "  return x"
      ],
      "metadata": {
        "id": "AQ_92H_4MKHb"
      },
      "execution_count": 36,
      "outputs": []
    },
    {
      "cell_type": "code",
      "source": [
        "def naive_add(x, y):\n",
        "  assert len(x.shape) == 2  # X and y are Rank-2 NumPy tensors\n",
        "  assert x.shape == y.shape\n",
        "  x = x.copy()              # avoid overwritting input tensor\n",
        "  for i in range(x.shape[0]):\n",
        "    for j in range(x.shape[1]):\n",
        "      x[i, j] = max(x[i, j], 0)\n",
        "  return x"
      ],
      "metadata": {
        "id": "Xu4yoETPNado"
      },
      "execution_count": 37,
      "outputs": []
    },
    {
      "cell_type": "code",
      "source": [
        "import numpy as np\n",
        "z = x + y\n",
        "z = np.maximum(z, 0.)"
      ],
      "metadata": {
        "id": "_REVVbflqwjx"
      },
      "execution_count": 40,
      "outputs": []
    },
    {
      "cell_type": "code",
      "source": [
        "# Demonstrate the effectiveness of using relu\n",
        "import time\n",
        "\n",
        "x = np.random.random((20, 100))\n",
        "y = np.random.random((20, 100))\n",
        "\n",
        "t0 = time.time()\n",
        "for _ in range(1000):\n",
        "  z = x + y\n",
        "  z = np.maximum(z, 0.)\n",
        "\n",
        "print(\"Took: {0:.2f} s\".format(time.time() - t0))"
      ],
      "metadata": {
        "colab": {
          "base_uri": "https://localhost:8080/"
        },
        "id": "0QRKXEUUOUGa",
        "outputId": "43b6712d-ac89-4006-cd07-cc4c3cdc1f24"
      },
      "execution_count": 41,
      "outputs": [
        {
          "output_type": "stream",
          "name": "stdout",
          "text": [
            "Took: 0.01 s\n"
          ]
        }
      ]
    },
    {
      "cell_type": "code",
      "source": [
        "t0 = time.time()\n",
        "for _ in range(1000):\n",
        "  z = naive_add(x, y)\n",
        "  z = naive_relu(z)\n",
        "\n",
        "print(\"Took: {0:.2f} s\".format(time.time() - t0))"
      ],
      "metadata": {
        "colab": {
          "base_uri": "https://localhost:8080/"
        },
        "id": "dQ8lFqsIPqsH",
        "outputId": "1dd420d7-0f86-4adb-c8f8-114a50e317cc"
      },
      "execution_count": 42,
      "outputs": [
        {
          "output_type": "stream",
          "name": "stdout",
          "text": [
            "Took: 2.83 s\n"
          ]
        }
      ]
    },
    {
      "cell_type": "markdown",
      "source": [
        "# Broadcasting"
      ],
      "metadata": {
        "id": "b6lTFvo7rDqk"
      }
    },
    {
      "cell_type": "code",
      "source": [
        "import numpy as np\n",
        "X = np.random.random((32,20))\n",
        "y = np.random.random(10,)\n",
        "\n",
        "print(X.shape)\n",
        "print(y.shape)"
      ],
      "metadata": {
        "colab": {
          "base_uri": "https://localhost:8080/"
        },
        "id": "62_9jk10rFZ3",
        "outputId": "3fd1d72b-263e-443f-969a-d75aa9fdbf49"
      },
      "execution_count": 44,
      "outputs": [
        {
          "output_type": "stream",
          "name": "stdout",
          "text": [
            "(32, 20)\n",
            "(10,)\n"
          ]
        }
      ]
    },
    {
      "cell_type": "code",
      "source": [
        "# add empty first axis to y\n",
        "y = np.expand_dims(y, axis = 0)\n",
        "y.shape"
      ],
      "metadata": {
        "colab": {
          "base_uri": "https://localhost:8080/"
        },
        "id": "Fq8cuFQQtBDi",
        "outputId": "dfb4fc82-57d7-4238-ff40-d1b7a675ce57"
      },
      "execution_count": 45,
      "outputs": [
        {
          "output_type": "execute_result",
          "data": {
            "text/plain": [
              "(1, 10)"
            ]
          },
          "metadata": {},
          "execution_count": 45
        }
      ]
    },
    {
      "cell_type": "code",
      "source": [
        "Y = np.concatenate([y] * 32, axis = 0)\n",
        "Y.shape"
      ],
      "metadata": {
        "colab": {
          "base_uri": "https://localhost:8080/"
        },
        "id": "15r0PuHltUzj",
        "outputId": "a10aac4b-4ed3-4f1c-ee69-9359a69684c0"
      },
      "execution_count": 46,
      "outputs": [
        {
          "output_type": "execute_result",
          "data": {
            "text/plain": [
              "(32, 10)"
            ]
          },
          "metadata": {},
          "execution_count": 46
        }
      ]
    },
    {
      "cell_type": "code",
      "source": [
        "def naive_add_matrix_and_vector(x, y):\n",
        "  assert len(x.shape) == 2\n",
        "  assert len(y.shape) == 1\n",
        "  assert x.shape[1] == y.shape[0]\n",
        "  x =x.copy()\n",
        "  for i in range(x.shape[0]):\n",
        "    for j in range(x.shape[1]):\n",
        "      x[i, j] += y[j]\n",
        "  return x"
      ],
      "metadata": {
        "id": "QxdaMRtLtqKp"
      },
      "execution_count": 47,
      "outputs": []
    }
  ]
}