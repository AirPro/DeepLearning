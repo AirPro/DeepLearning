{
  "nbformat": 4,
  "nbformat_minor": 0,
  "metadata": {
    "colab": {
      "provenance": [],
      "authorship_tag": "ABX9TyMSJsNZIA33W05LNb009pMt",
      "include_colab_link": true
    },
    "kernelspec": {
      "name": "python3",
      "display_name": "Python 3"
    },
    "language_info": {
      "name": "python"
    }
  },
  "cells": [
    {
      "cell_type": "markdown",
      "metadata": {
        "id": "view-in-github",
        "colab_type": "text"
      },
      "source": [
        "<a href=\"https://colab.research.google.com/github/AirPro/DeepLearning/blob/Module2Assignment/Module2Assignment.ipynb\" target=\"_parent\"><img src=\"https://colab.research.google.com/assets/colab-badge.svg\" alt=\"Open In Colab\"/></a>"
      ]
    },
    {
      "cell_type": "markdown",
      "source": [
        "# Module Two Hands On Assignment\n",
        "January 25, 2023 <br>\n",
        "By: Robert Freid for Deep Learning Class"
      ],
      "metadata": {
        "id": "sa5mmL-WdLVQ"
      }
    },
    {
      "cell_type": "code",
      "execution_count": 34,
      "metadata": {
        "id": "BKWKDbobcvE0"
      },
      "outputs": [],
      "source": [
        "# import modules and libraries\n",
        "import numpy as np\n",
        "import matplotlib.pyplot as plt"
      ]
    },
    {
      "cell_type": "markdown",
      "source": [
        "## Use the Fashion MNIST dataset named fashion_mnist\n",
        "Load the data from Repository <br>\n",
        "Display the shape ofnthe dataset"
      ],
      "metadata": {
        "id": "2EhrObifeqgl"
      }
    },
    {
      "cell_type": "code",
      "source": [
        "# import the Fashion_Mnist dataset from Keras\n",
        "from tensorflow.keras.datasets import fashion_mnist\n",
        "\n",
        "# Save the training set in X_Train and X_Test and the testing data in y_train and y_test\n",
        "(X_train, y_train), (X_test, y_test) = fashion_mnist.load_data()\n",
        "\n",
        "# display the shape of the imported dataset\n",
        "print(\"X_train shape = \", X_train.shape)\n",
        "print(\"y_train shape = \", y_train.shape)\n",
        "print(\"X_test shape = \", X_test.shape)\n",
        "print(\"y_test shape = \", y_test.shape)"
      ],
      "metadata": {
        "colab": {
          "base_uri": "https://localhost:8080/"
        },
        "id": "y9rmd6CQgTXm",
        "outputId": "2b8b6a6b-14f2-4452-8fb5-1236fbe4954e"
      },
      "execution_count": 35,
      "outputs": [
        {
          "output_type": "stream",
          "name": "stdout",
          "text": [
            "X_train shape =  (60000, 28, 28)\n",
            "y_train shape =  (60000,)\n",
            "X_test shape =  (10000, 28, 28)\n",
            "y_test shape =  (10000,)\n"
          ]
        }
      ]
    },
    {
      "cell_type": "markdown",
      "source": [
        "## Plot the image at location 2351 in the dataset using the pyplot library."
      ],
      "metadata": {
        "id": "AzELaeBitODk"
      }
    },
    {
      "cell_type": "code",
      "source": [
        "# image at location 2351\n",
        "plt.imshow(X_train[2351], cmap = plt.get_cmap('gray'))"
      ],
      "metadata": {
        "colab": {
          "base_uri": "https://localhost:8080/",
          "height": 283
        },
        "id": "KFvZcBXxtfCA",
        "outputId": "75a67a2e-e7df-48f6-cbe5-8060335e6fa0"
      },
      "execution_count": 36,
      "outputs": [
        {
          "output_type": "execute_result",
          "data": {
            "text/plain": [
              "<matplotlib.image.AxesImage at 0x7f9afd87ea30>"
            ]
          },
          "metadata": {},
          "execution_count": 36
        },
        {
          "output_type": "display_data",
          "data": {
            "text/plain": [
              "<Figure size 432x288 with 1 Axes>"
            ],
            "image/png": "[encoded data removed]"
          },
          "metadata": {
            "needs_background": "light"
          }
        }
      ]
    },
    {
      "cell_type": "markdown",
      "source": [
        "## Perform the requirement to preprocess the dataset"
      ],
      "metadata": {
        "id": "BKuH-yBu2Dh3"
      }
    },
    {
      "cell_type": "code",
      "source": [
        "# change integers to 32-bit floating point numbers\n",
        "X_train = X_train.astype('float32')\n",
        "X_test = X_test.astype('float32')\n",
        "\n",
        "# normalize each value for each pixel for the entire vector for each input\n",
        "X_train /= 255\n",
        "X_test /= 255\n",
        "\n",
        "# Reshape the datasets which allows adding or removing demensions in an array\n",
        "X_train = X_train.reshape(60000,28,28,1)\n",
        "X_test = X_test.reshape(10000, 28,28,1)\n",
        "\n",
        "# Verify using print fuction datasets\n",
        "print(\"Training matrix shape: \", X_train.shape)\n",
        "print(\"Testing matrix shape: \", X_test.shape)\n",
        "\n"
      ],
      "metadata": {
        "colab": {
          "base_uri": "https://localhost:8080/"
        },
        "id": "ZMv1RNgV2KUx",
        "outputId": "7bc312d3-c29b-43ee-c76a-bc970972a27c"
      },
      "execution_count": 37,
      "outputs": [
        {
          "output_type": "stream",
          "name": "stdout",
          "text": [
            "Training matrix shape:  (60000, 28, 28, 1)\n",
            "Testing matrix shape:  (10000, 28, 28, 1)\n"
          ]
        }
      ]
    },
    {
      "cell_type": "code",
      "source": [
        "# Preparing the labels by converting them to one-hot-encoder\n",
        "\n",
        "from keras.utils import np_utils\n",
        "\n",
        "# number of unique digits in the MNIST dataset\n",
        "nb_classes = 10\n",
        "\n",
        "# convert the Y_train and y_test to one-hot-encoding\n",
        "y_train = np_utils.to_categorical(y_train, nb_classes )\n",
        "y_test = np_utils.to_categorical(y_test, nb_classes)\n",
        "\n",
        "# display the shape of the converted datasets\n",
        "print(\"Training labels shape: \", y_train.shape)\n",
        "print(\"Testing labels shape: \", y_test.shape)"
      ],
      "metadata": {
        "colab": {
          "base_uri": "https://localhost:8080/"
        },
        "id": "ZXATbVkz4BW9",
        "outputId": "58c2e830-882d-4981-acf2-6d0466905b8c"
      },
      "execution_count": 38,
      "outputs": [
        {
          "output_type": "stream",
          "name": "stdout",
          "text": [
            "Training labels shape:  (60000, 10)\n",
            "Testing labels shape:  (10000, 10)\n"
          ]
        }
      ]
    },
    {
      "cell_type": "markdown",
      "source": [
        "# Create a Convolutional Neural Network\n",
        "Must contain the following: <br>\n",
        "2D-CNN, Max-pooling <br>\n",
        "2D-CNN, Max-pooling <br>\n",
        "2D-CNN, Max-pooling <br>\n",
        "Flatten, Dropout, Dense64 <br>\n",
        "softmax dense layer <br>\n",
        "SETTINGS <br>\n",
        "Set kernal sizes of the 2D-CNNs to 32, 64, 64 <br>\n",
        "Set kernal size to 3 x 3 <br>\n",
        "Set Max-pooling to 2 x 2 <br>\n",
        "Check the model SUMMARY <br>\n",
        "Compile the model <br>\n"
      ],
      "metadata": {
        "id": "oSiiETna5x5h"
      }
    },
    {
      "cell_type": "code",
      "source": [
        "# import statement\n",
        "from tensorflow.keras import Sequential\n",
        "from tensorflow.keras.layers import Conv2D, Flatten, Dense, Dropout, MaxPooling2D"
      ],
      "metadata": {
        "id": "7hNxdIB17uQC"
      },
      "execution_count": 39,
      "outputs": []
    },
    {
      "cell_type": "code",
      "source": [
        "model = Sequential()\n",
        "\n",
        "model.add(Conv2D(32, kernel_size = (3,3), activation = \"relu\", input_shape=(28,28,1)))\n",
        "model.add(MaxPooling2D(pool_size = (2,2)))\n",
        "model.add(Conv2D(64, kernel_size = (3,3), activation = \"relu\"))\n",
        "model.add(MaxPooling2D(pool_size = (2,2)))\n",
        "model.add(Conv2D(64, kernel_size = (3,3), activation = \"relu\"))\n",
        "model.add(MaxPooling2D(pool_size = (2,2)))\n",
        "model.add(Flatten())\n",
        "model.add(Dropout(0.5))\n",
        "model.add(Dense(10, activation = \"softmax\"))\n"
      ],
      "metadata": {
        "id": "ztUZf8QG89Yy"
      },
      "execution_count": 40,
      "outputs": []
    },
    {
      "cell_type": "code",
      "source": [
        "# Display the summary information for the model\n",
        "model.summary()"
      ],
      "metadata": {
        "colab": {
          "base_uri": "https://localhost:8080/"
        },
        "id": "9YhXlCik_G22",
        "outputId": "75556895-086a-43bc-cc99-5c67d5d08f55"
      },
      "execution_count": 41,
      "outputs": [
        {
          "output_type": "stream",
          "name": "stdout",
          "text": [
            "Model: \"sequential_3\"\n",
            "_________________________________________________________________\n",
            " Layer (type)                Output Shape              Param #   \n",
            "=================================================================\n",
            " conv2d_1 (Conv2D)           (None, 26, 26, 32)        320       \n",
            "                                                                 \n",
            " max_pooling2d_1 (MaxPooling  (None, 13, 13, 32)       0         \n",
            " 2D)                                                             \n",
            "                                                                 \n",
            " conv2d_2 (Conv2D)           (None, 11, 11, 64)        18496     \n",
            "                                                                 \n",
            " max_pooling2d_2 (MaxPooling  (None, 5, 5, 64)         0         \n",
            " 2D)                                                             \n",
            "                                                                 \n",
            " conv2d_3 (Conv2D)           (None, 3, 3, 64)          36928     \n",
            "                                                                 \n",
            " max_pooling2d_3 (MaxPooling  (None, 1, 1, 64)         0         \n",
            " 2D)                                                             \n",
            "                                                                 \n",
            " flatten (Flatten)           (None, 64)                0         \n",
            "                                                                 \n",
            " dropout (Dropout)           (None, 64)                0         \n",
            "                                                                 \n",
            " dense (Dense)               (None, 10)                650       \n",
            "                                                                 \n",
            "=================================================================\n",
            "Total params: 56,394\n",
            "Trainable params: 56,394\n",
            "Non-trainable params: 0\n",
            "_________________________________________________________________\n"
          ]
        }
      ]
    },
    {
      "cell_type": "markdown",
      "source": [
        "# Compile the Model"
      ],
      "metadata": {
        "id": "oQtJROqSArsD"
      }
    },
    {
      "cell_type": "code",
      "source": [
        "model.compile(loss = \"categorical_crossentropy\", optimizer=\"adam\", metrics=\"accuracy\")"
      ],
      "metadata": {
        "id": "T9PD8bstAvQw"
      },
      "execution_count": 42,
      "outputs": []
    },
    {
      "cell_type": "markdown",
      "source": [
        "# Train the Model\n",
        "Set epochs to 15 <br>\n",
        "Set batch size to 128 <br>\n",
        "Set the validation to 0.15"
      ],
      "metadata": {
        "id": "NuYjmBGmBPmj"
      }
    },
    {
      "cell_type": "code",
      "source": [
        "history = model.fit(X_train, y_train, batch_size=128, epochs=15, verbose=1, validation_split=0.15)"
      ],
      "metadata": {
        "colab": {
          "base_uri": "https://localhost:8080/"
        },
        "id": "IMHBbvLtBqnZ",
        "outputId": "c505d844-026e-48d0-f395-6e2062522b97"
      },
      "execution_count": 43,
      "outputs": [
        {
          "output_type": "stream",
          "name": "stdout",
          "text": [
            "Epoch 1/15\n",
            "399/399 [==============================] - 47s 115ms/step - loss: 0.9279 - accuracy: 0.6660 - val_loss: 0.5788 - val_accuracy: 0.7897\n",
            "Epoch 2/15\n",
            "399/399 [==============================] - 46s 114ms/step - loss: 0.6352 - accuracy: 0.7719 - val_loss: 0.4999 - val_accuracy: 0.8224\n",
            "Epoch 3/15\n",
            "399/399 [==============================] - 47s 119ms/step - loss: 0.5742 - accuracy: 0.7949 - val_loss: 0.4616 - val_accuracy: 0.8316\n",
            "Epoch 4/15\n",
            "399/399 [==============================] - 46s 114ms/step - loss: 0.5336 - accuracy: 0.8081 - val_loss: 0.4354 - val_accuracy: 0.8416\n",
            "Epoch 5/15\n",
            "399/399 [==============================] - 47s 119ms/step - loss: 0.5032 - accuracy: 0.8204 - val_loss: 0.4150 - val_accuracy: 0.8457\n",
            "Epoch 6/15\n",
            "399/399 [==============================] - 46s 115ms/step - loss: 0.4813 - accuracy: 0.8274 - val_loss: 0.3974 - val_accuracy: 0.8541\n",
            "Epoch 7/15\n",
            "399/399 [==============================] - 47s 119ms/step - loss: 0.4616 - accuracy: 0.8348 - val_loss: 0.3878 - val_accuracy: 0.8559\n",
            "Epoch 8/15\n",
            "399/399 [==============================] - 46s 114ms/step - loss: 0.4460 - accuracy: 0.8405 - val_loss: 0.3783 - val_accuracy: 0.8632\n",
            "Epoch 9/15\n",
            "399/399 [==============================] - 46s 116ms/step - loss: 0.4331 - accuracy: 0.8448 - val_loss: 0.3607 - val_accuracy: 0.8680\n",
            "Epoch 10/15\n",
            "399/399 [==============================] - 45s 113ms/step - loss: 0.4151 - accuracy: 0.8505 - val_loss: 0.3605 - val_accuracy: 0.8704\n",
            "Epoch 11/15\n",
            "399/399 [==============================] - 45s 113ms/step - loss: 0.4082 - accuracy: 0.8542 - val_loss: 0.3428 - val_accuracy: 0.8727\n",
            "Epoch 12/15\n",
            "399/399 [==============================] - 47s 117ms/step - loss: 0.3958 - accuracy: 0.8580 - val_loss: 0.3428 - val_accuracy: 0.8736\n",
            "Epoch 13/15\n",
            "399/399 [==============================] - 45s 114ms/step - loss: 0.3855 - accuracy: 0.8604 - val_loss: 0.3417 - val_accuracy: 0.8742\n",
            "Epoch 14/15\n",
            "399/399 [==============================] - 47s 117ms/step - loss: 0.3743 - accuracy: 0.8670 - val_loss: 0.3284 - val_accuracy: 0.8793\n",
            "Epoch 15/15\n",
            "399/399 [==============================] - 46s 114ms/step - loss: 0.3693 - accuracy: 0.8675 - val_loss: 0.3231 - val_accuracy: 0.8811\n"
          ]
        }
      ]
    },
    {
      "cell_type": "code",
      "source": [
        "history.history"
      ],
      "metadata": {
        "colab": {
          "base_uri": "https://localhost:8080/"
        },
        "id": "yB7e-FcYKE7D",
        "outputId": "f25497a2-1ee0-4dd7-ef5f-30c2b2517f34"
      },
      "execution_count": 44,
      "outputs": [
        {
          "output_type": "execute_result",
          "data": {
            "text/plain": [
              "{'loss': [0.9278679490089417,\n",
              "  0.6351746916770935,\n",
              "  0.5741941332817078,\n",
              "  0.5336217880249023,\n",
              "  0.5031634569168091,\n",
              "  0.48126059770584106,\n",
              "  0.4615972340106964,\n",
              "  0.44600674510002136,\n",
              "  0.4330751895904541,\n",
              "  0.4151054322719574,\n",
              "  0.4081726372241974,\n",
              "  0.39583820104599,\n",
              "  0.38549473881721497,\n",
              "  0.37431204319000244,\n",
              "  0.3693043291568756],\n",
              " 'accuracy': [0.666039228439331,\n",
              "  0.7719215750694275,\n",
              "  0.7949215769767761,\n",
              "  0.8081372380256653,\n",
              "  0.8204313516616821,\n",
              "  0.8274313807487488,\n",
              "  0.8347647190093994,\n",
              "  0.8405489921569824,\n",
              "  0.8447843194007874,\n",
              "  0.8504706025123596,\n",
              "  0.8542352914810181,\n",
              "  0.8579803705215454,\n",
              "  0.8604313731193542,\n",
              "  0.8669607639312744,\n",
              "  0.8674705624580383],\n",
              " 'val_loss': [0.5788329243659973,\n",
              "  0.4998696744441986,\n",
              "  0.461609810590744,\n",
              "  0.4354299008846283,\n",
              "  0.41497907042503357,\n",
              "  0.3973632752895355,\n",
              "  0.38778916001319885,\n",
              "  0.37829065322875977,\n",
              "  0.36068153381347656,\n",
              "  0.36049684882164,\n",
              "  0.34277066588401794,\n",
              "  0.3427852690219879,\n",
              "  0.3417384922504425,\n",
              "  0.3283531665802002,\n",
              "  0.32307910919189453],\n",
              " 'val_accuracy': [0.7896666526794434,\n",
              "  0.8224444389343262,\n",
              "  0.8315555453300476,\n",
              "  0.8415555357933044,\n",
              "  0.8456666469573975,\n",
              "  0.8541111350059509,\n",
              "  0.8558889031410217,\n",
              "  0.8632222414016724,\n",
              "  0.8679999709129333,\n",
              "  0.8704444169998169,\n",
              "  0.8726666569709778,\n",
              "  0.8735555410385132,\n",
              "  0.8742222189903259,\n",
              "  0.8793333172798157,\n",
              "  0.8811110854148865]}"
            ]
          },
          "metadata": {},
          "execution_count": 44
        }
      ]
    },
    {
      "cell_type": "markdown",
      "source": [
        "# Plot the training versus validation loss\n",
        "Submit a .pdf file of screenshots of each code block being executed."
      ],
      "metadata": {
        "id": "otMHI8vkN_wR"
      }
    },
    {
      "cell_type": "code",
      "source": [
        "plt.plot(history.history['accuracy'])\n",
        "plt.plot(history.history['val_accuracy'])\n",
        "plt.xlabel('epoch', fontsize=16)\n",
        "plt.ylabel('accuracy', fontsize=16)\n",
        "plt.legend(['train', 'validation'], loc='lower right', fontsize='large')\n",
        "plt.show()"
      ],
      "metadata": {
        "colab": {
          "base_uri": "https://localhost:8080/",
          "height": 284
        },
        "id": "o4Tc_uyaOQY0",
        "outputId": "f05b41e5-ceec-4a5e-c03d-17ab7870de53"
      },
      "execution_count": 45,
      "outputs": [
        {
          "output_type": "display_data",
          "data": {
            "text/plain": [
              "<Figure size 432x288 with 1 Axes>"
            ],
            "image/png": "[encoded data removed]"
          },
          "metadata": {
            "needs_background": "light"
          }
        }
      ]
    },
    {
      "cell_type": "markdown",
      "source": [
        "# Evaluate the model display the score"
      ],
      "metadata": {
        "id": "EDZEs9J0PdzN"
      }
    },
    {
      "cell_type": "code",
      "source": [
        "score = model.evaluate(X_test, y_test)\n",
        "\n",
        "print(\"Test loss value: \", score[0])\n",
        "print(\"Test accuracy: \", score[1])"
      ],
      "metadata": {
        "colab": {
          "base_uri": "https://localhost:8080/"
        },
        "id": "LUYEfkCuPkI7",
        "outputId": "f7a3ef10-0180-436e-be7e-c503111b28fa"
      },
      "execution_count": 46,
      "outputs": [
        {
          "output_type": "stream",
          "name": "stdout",
          "text": [
            "313/313 [==============================] - 3s 11ms/step - loss: 0.3351 - accuracy: 0.8779\n",
            "Test loss value:  0.33506321907043457\n",
            "Test accuracy:  0.8779000043869019\n"
          ]
        }
      ]
    }
  ]
}