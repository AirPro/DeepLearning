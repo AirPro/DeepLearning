{
  "nbformat": 4,
  "nbformat_minor": 0,
  "metadata": {
    "colab": {
      "provenance": [],
      "authorship_tag": "ABX9TyMXr/TXAgnI0CkOg3v9RwR3",
      "include_colab_link": true
    },
    "kernelspec": {
      "name": "python3",
      "display_name": "Python 3"
    },
    "language_info": {
      "name": "python"
    }
  },
  "cells": [
    {
      "cell_type": "markdown",
      "metadata": {
        "id": "view-in-github",
        "colab_type": "text"
      },
      "source": [
        "<a href=\"https://colab.research.google.com/github/AirPro/DeepLearning/blob/Module2Assignment/Module2Assignment.ipynb\" target=\"_parent\"><img src=\"https://colab.research.google.com/assets/colab-badge.svg\" alt=\"Open In Colab\"/></a>"
      ]
    },
    {
      "cell_type": "markdown",
      "source": [
        "# Module Two Hands On Assignment\n",
        "January 25, 2023 <br>\n",
        "By: Robert Freid for Deep Learning Class"
      ],
      "metadata": {
        "id": "sa5mmL-WdLVQ"
      }
    },
    {
      "cell_type": "code",
      "execution_count": 6,
      "metadata": {
        "id": "BKWKDbobcvE0"
      },
      "outputs": [],
      "source": [
        "# import modules and libraries\n",
        "import numpy as np\n",
        "import matplotlib.pyplot as plt"
      ]
    },
    {
      "cell_type": "markdown",
      "source": [
        "## Use the Fashion MNIST dataset named fashion_mnist\n",
        "Load the data from Repository <br>\n",
        "Display the shape ofnthe dataset"
      ],
      "metadata": {
        "id": "2EhrObifeqgl"
      }
    },
    {
      "cell_type": "code",
      "source": [
        "# import the Fashion_Mnist dataset from Keras\n",
        "from tensorflow.keras.datasets import fashion_mnist\n",
        "\n",
        "# Save the training set in X_Train and X_Test and the testing data in y_train and y_test\n",
        "(X_train, y_train), (X_test, y_test) = fashion_mnist.load_data()\n",
        "\n",
        "# display the shape of the imported dataset\n",
        "print(\"X_train shape = \", X_train.shape)\n",
        "print(\"y_train shape = \", y_train.shape)\n",
        "print(\"X_test shape = \", X_test.shape)\n",
        "print(\"y_test shape = \", y_test.shape)"
      ],
      "metadata": {
        "colab": {
          "base_uri": "https://localhost:8080/"
        },
        "id": "y9rmd6CQgTXm",
        "outputId": "0cd240fd-cd4d-4c37-b52e-1390d06cb600"
      },
      "execution_count": 7,
      "outputs": [
        {
          "output_type": "stream",
          "name": "stdout",
          "text": [
            "X_train shape =  (60000, 28, 28)\n",
            "y_train shape =  (60000,)\n",
            "X_test shape =  (10000, 28, 28)\n",
            "y_test shape =  (10000,)\n"
          ]
        }
      ]
    },
    {
      "cell_type": "markdown",
      "source": [
        "## Plot the image at location 2351 in the dataset using the pyplot library."
      ],
      "metadata": {
        "id": "AzELaeBitODk"
      }
    },
    {
      "cell_type": "code",
      "source": [
        "# image at location 2351\n",
        "plt.imshow(X_train[2351], cmap = plt.get_cmap('gray'))"
      ],
      "metadata": {
        "colab": {
          "base_uri": "https://localhost:8080/",
          "height": 283
        },
        "id": "KFvZcBXxtfCA",
        "outputId": "493b6f9b-0308-40b8-9344-1200ad8a01ea"
      },
      "execution_count": 8,
      "outputs": [
        {
          "output_type": "execute_result",
          "data": {
            "text/plain": [
              "<matplotlib.image.AxesImage at 0x7f9b0238dbe0>"
            ]
          },
          "metadata": {},
          "execution_count": 8
        },
        {
          "output_type": "display_data",
          "data": {
            "text/plain": [
              "<Figure size 432x288 with 1 Axes>"
            ],
            "image/png": "[encoded data removed]"
          },
          "metadata": {
            "needs_background": "light"
          }
        }
      ]
    },
    {
      "cell_type": "markdown",
      "source": [
        "## Perform the requirement to preprocess the dataset"
      ],
      "metadata": {
        "id": "BKuH-yBu2Dh3"
      }
    },
    {
      "cell_type": "code",
      "source": [
        "# change integers to 32-bit floating point numbers\n",
        "X_train = X_train.astype('float32')\n",
        "X_test = X_test.astype('float32')\n",
        "\n",
        "# normalize each value for each pixel for the entire vector for each input\n",
        "X_train /= 255\n",
        "X_test /= 255\n",
        "\n",
        "# Reshape the datasets which allows adding or removing demensions in an array\n",
        "X_train = X_train.reshape(60000,28,28,1)\n",
        "X_test = X_test.reshape(10000, 28,28,1)\n",
        "\n",
        "# Verify using print fuction datasets\n",
        "print(\"Training matrix shape: \", X_train.shape)\n",
        "print(\"Testing matrix shape: \", X_test.shape)\n",
        "\n"
      ],
      "metadata": {
        "colab": {
          "base_uri": "https://localhost:8080/"
        },
        "id": "ZMv1RNgV2KUx",
        "outputId": "e7f77f7a-0425-4335-8746-7b2d0f82dfc3"
      },
      "execution_count": 9,
      "outputs": [
        {
          "output_type": "stream",
          "name": "stdout",
          "text": [
            "Training matrix shape:  (60000, 28, 28, 1)\n",
            "Testing matrix shape:  (10000, 28, 28, 1)\n"
          ]
        }
      ]
    },
    {
      "cell_type": "code",
      "source": [
        "# Preparing the labels by converting them to one-hot-encoder\n",
        "\n",
        "from keras.utils import np_utils\n",
        "\n",
        "# number of unique digits in the MNIST dataset\n",
        "nb_classes = 10\n",
        "\n",
        "# convert the Y_train and y_test to one-hot-encoding\n",
        "y_train = np_utils.to_categorical(y_train, nb_classes )\n",
        "y_test = np_utils.to_categorical(y_test, nb_classes)\n",
        "\n",
        "# display the shape of the converted datasets\n",
        "print(\"Training labels shape: \", y_train.shape)\n",
        "print(\"Testing labels shape: \", y_test.shape)"
      ],
      "metadata": {
        "colab": {
          "base_uri": "https://localhost:8080/"
        },
        "id": "ZXATbVkz4BW9",
        "outputId": "b5c78168-31c0-4854-8ddc-fdccc384dab4"
      },
      "execution_count": 10,
      "outputs": [
        {
          "output_type": "stream",
          "name": "stdout",
          "text": [
            "Training labels shape:  (60000, 10)\n",
            "Testing labels shape:  (10000, 10)\n"
          ]
        }
      ]
    }
  ]
}