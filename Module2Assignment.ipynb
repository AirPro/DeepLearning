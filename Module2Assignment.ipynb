{
  "nbformat": 4,
  "nbformat_minor": 0,
  "metadata": {
    "colab": {
      "provenance": [],
      "authorship_tag": "ABX9TyP5xSngtGt3X0JGwWmmWN4J",
      "include_colab_link": true
    },
    "kernelspec": {
      "name": "python3",
      "display_name": "Python 3"
    },
    "language_info": {
      "name": "python"
    }
  },
  "cells": [
    {
      "cell_type": "markdown",
      "metadata": {
        "id": "view-in-github",
        "colab_type": "text"
      },
      "source": [
        "<a href=\"https://colab.research.google.com/github/AirPro/DeepLearning/blob/Module2Assignment/Module2Assignment.ipynb\" target=\"_parent\"><img src=\"https://colab.research.google.com/assets/colab-badge.svg\" alt=\"Open In Colab\"/></a>"
      ]
    },
    {
      "cell_type": "markdown",
      "source": [
        "# Module Two Hands On Assignment\n",
        "January 25, 2023 <br>\n",
        "By: Robert Freid for Deep Learning Class"
      ],
      "metadata": {
        "id": "sa5mmL-WdLVQ"
      }
    },
    {
      "cell_type": "code",
      "execution_count": 34,
      "metadata": {
        "id": "BKWKDbobcvE0"
      },
      "outputs": [],
      "source": [
        "# import modules and libraries\n",
        "import numpy as np\n",
        "import matplotlib.pyplot as plt"
      ]
    },
    {
      "cell_type": "markdown",
      "source": [
        "## Use the Fashion MNIST dataset named fashion_mnist\n",
        "Load the data from Repository <br>\n",
        "Display the shape ofnthe dataset"
      ],
      "metadata": {
        "id": "2EhrObifeqgl"
      }
    },
    {
      "cell_type": "code",
      "source": [
        "# import the Fashion_Mnist dataset from Keras\n",
        "from tensorflow.keras.datasets import fashion_mnist\n",
        "\n",
        "# Save the training set in X_Train and X_Test and the testing data in y_train and y_test\n",
        "(X_train, y_train), (X_test, y_test) = fashion_mnist.load_data()\n",
        "\n",
        "# display the shape of the imported dataset\n",
        "print(\"X_train shape = \", X_train.shape)\n",
        "print(\"y_train shape = \", y_train.shape)\n",
        "print(\"X_test shape = \", X_test.shape)\n",
        "print(\"y_test shape = \", y_test.shape)"
      ],
      "metadata": {
        "colab": {
          "base_uri": "https://localhost:8080/"
        },
        "id": "y9rmd6CQgTXm",
        "outputId": "2b8b6a6b-14f2-4452-8fb5-1236fbe4954e"
      },
      "execution_count": 35,
      "outputs": [
        {
          "output_type": "stream",
          "name": "stdout",
          "text": [
            "X_train shape =  (60000, 28, 28)\n",
            "y_train shape =  (60000,)\n",
            "X_test shape =  (10000, 28, 28)\n",
            "y_test shape =  (10000,)\n"
          ]
        }
      ]
    },
    {
      "cell_type": "markdown",
      "source": [
        "## Plot the image at location 2351 in the dataset using the pyplot library."
      ],
      "metadata": {
        "id": "AzELaeBitODk"
      }
    },
    {
      "cell_type": "code",
      "source": [
        "# image at location 2351\n",
        "plt.imshow(X_train[2351], cmap = plt.get_cmap('gray'))"
      ],
      "metadata": {
        "colab": {
          "base_uri": "https://localhost:8080/",
          "height": 283
        },
        "id": "KFvZcBXxtfCA",
        "outputId": "75a67a2e-e7df-48f6-cbe5-8060335e6fa0"
      },
      "execution_count": 36,
      "outputs": [
        {
          "output_type": "execute_result",
          "data": {
            "text/plain": [
              "<matplotlib.image.AxesImage at 0x7f9afd87ea30>"
            ]
          },
          "metadata": {},
          "execution_count": 36
        },
        {
          "output_type": "display_data",
          "data": {
            "text/plain": [
              "<Figure size 432x288 with 1 Axes>"
            ],
            "image/png": "[encoded data removed]"
          },
          "metadata": {
            "needs_background": "light"
          }
        }
      ]
    },
    {
      "cell_type": "markdown",
      "source": [
        "## Perform the requirement to preprocess the dataset"
      ],
      "metadata": {
        "id": "BKuH-yBu2Dh3"
      }
    },
    {
      "cell_type": "code",
      "source": [
        "# change integers to 32-bit floating point numbers\n",
        "X_train = X_train.astype('float32')\n",
        "X_test = X_test.astype('float32')\n",
        "\n",
        "# normalize each value for each pixel for the entire vector for each input\n",
        "X_train /= 255\n",
        "X_test /= 255\n",
        "\n",
        "# Reshape the datasets which allows adding or removing demensions in an array\n",
        "X_train = X_train.reshape(60000,28,28,1)\n",
        "X_test = X_test.reshape(10000, 28,28,1)\n",
        "\n",
        "# Verify using print fuction datasets\n",
        "print(\"Training matrix shape: \", X_train.shape)\n",
        "print(\"Testing matrix shape: \", X_test.shape)\n",
        "\n"
      ],
      "metadata": {
        "colab": {
          "base_uri": "https://localhost:8080/"
        },
        "id": "ZMv1RNgV2KUx",
        "outputId": "7bc312d3-c29b-43ee-c76a-bc970972a27c"
      },
      "execution_count": 37,
      "outputs": [
        {
          "output_type": "stream",
          "name": "stdout",
          "text": [
            "Training matrix shape:  (60000, 28, 28, 1)\n",
            "Testing matrix shape:  (10000, 28, 28, 1)\n"
          ]
        }
      ]
    },
    {
      "cell_type": "code",
      "source": [
        "# Preparing the labels by converting them to one-hot-encoder\n",
        "\n",
        "from keras.utils import np_utils\n",
        "\n",
        "# number of unique digits in the MNIST dataset\n",
        "nb_classes = 10\n",
        "\n",
        "# convert the Y_train and y_test to one-hot-encoding\n",
        "y_train = np_utils.to_categorical(y_train, nb_classes )\n",
        "y_test = np_utils.to_categorical(y_test, nb_classes)\n",
        "\n",
        "# display the shape of the converted datasets\n",
        "print(\"Training labels shape: \", y_train.shape)\n",
        "print(\"Testing labels shape: \", y_test.shape)"
      ],
      "metadata": {
        "colab": {
          "base_uri": "https://localhost:8080/"
        },
        "id": "ZXATbVkz4BW9",
        "outputId": "58c2e830-882d-4981-acf2-6d0466905b8c"
      },
      "execution_count": 38,
      "outputs": [
        {
          "output_type": "stream",
          "name": "stdout",
          "text": [
            "Training labels shape:  (60000, 10)\n",
            "Testing labels shape:  (10000, 10)\n"
          ]
        }
      ]
    },
    {
      "cell_type": "markdown",
      "source": [
        "# Create a Convolutional Neural Network\n",
        "Must contain the following: <br>\n",
        "2D-CNN, Max-pooling <br>\n",
        "2D-CNN, Max-pooling <br>\n",
        "2D-CNN, Max-pooling <br>\n",
        "Flatten, Dropout, Dense64 <br>\n",
        "softmax dense layer <br>\n",
        "SETTINGS <br>\n",
        "Set kernal sizes of the 2D-CNNs to 32, 64, 64 <br>\n",
        "Set kernal size to 3 x 3 <br>\n",
        "Set Max-pooling to 2 x 2 <br>\n",
        "Check the model SUMMARY <br>\n",
        "Compile the model <br>\n"
      ],
      "metadata": {
        "id": "oSiiETna5x5h"
      }
    },
    {
      "cell_type": "code",
      "source": [
        "# import statement\n",
        "from tensorflow.keras import Sequential\n",
        "from tensorflow.keras.layers import Conv2D, Flatten, Dense, Dropout, MaxPooling2D"
      ],
      "metadata": {
        "id": "7hNxdIB17uQC"
      },
      "execution_count": 39,
      "outputs": []
    },
    {
      "cell_type": "code",
      "source": [
        "model = Sequential()\n",
        "\n",
        "model.add(Conv2D(32, kernel_size = (3,3), activation = \"relu\", input_shape=(28,28,1)))\n",
        "model.add(MaxPooling2D(pool_size = (2,2)))\n",
        "model.add(Conv2D(64, kernel_size = (3,3), activation = \"relu\"))\n",
        "model.add(MaxPooling2D(pool_size = (2,2)))\n",
        "model.add(Conv2D(64, kernel_size = (3,3), activation = \"relu\"))\n",
        "model.add(MaxPooling2D(pool_size = (2,2)))\n",
        "model.add(Flatten())\n",
        "model.add(Dropout(0.5))\n",
        "model.add(Dense(10, activation = \"softmax\"))\n"
      ],
      "metadata": {
        "id": "ztUZf8QG89Yy"
      },
      "execution_count": 40,
      "outputs": []
    },
    {
      "cell_type": "code",
      "source": [
        "# Display the summary information for the model\n",
        "model.summary()"
      ],
      "metadata": {
        "colab": {
          "base_uri": "https://localhost:8080/"
        },
        "id": "9YhXlCik_G22",
        "outputId": "75556895-086a-43bc-cc99-5c67d5d08f55"
      },
      "execution_count": 41,
      "outputs": [
        {
          "output_type": "stream",
          "name": "stdout",
          "text": [
            "Model: \"sequential_3\"\n",
            "_________________________________________________________________\n",
            " Layer (type)                Output Shape              Param #   \n",
            "=================================================================\n",
            " conv2d_1 (Conv2D)           (None, 26, 26, 32)        320       \n",
            "                                                                 \n",
            " max_pooling2d_1 (MaxPooling  (None, 13, 13, 32)       0         \n",
            " 2D)                                                             \n",
            "                                                                 \n",
            " conv2d_2 (Conv2D)           (None, 11, 11, 64)        18496     \n",
            "                                                                 \n",
            " max_pooling2d_2 (MaxPooling  (None, 5, 5, 64)         0         \n",
            " 2D)                                                             \n",
            "                                                                 \n",
            " conv2d_3 (Conv2D)           (None, 3, 3, 64)          36928     \n",
            "                                                                 \n",
            " max_pooling2d_3 (MaxPooling  (None, 1, 1, 64)         0         \n",
            " 2D)                                                             \n",
            "                                                                 \n",
            " flatten (Flatten)           (None, 64)                0         \n",
            "                                                                 \n",
            " dropout (Dropout)           (None, 64)                0         \n",
            "                                                                 \n",
            " dense (Dense)               (None, 10)                650       \n",
            "                                                                 \n",
            "=================================================================\n",
            "Total params: 56,394\n",
            "Trainable params: 56,394\n",
            "Non-trainable params: 0\n",
            "_________________________________________________________________\n"
          ]
        }
      ]
    }
  ]
}